{
 "cells": [
  {
   "cell_type": "code",
   "execution_count": 1,
   "id": "bc91ee96-3a36-4640-ba20-b24cff9947a1",
   "metadata": {},
   "outputs": [
    {
     "data": {
      "text/plain": [
       "'2.3.1'"
      ]
     },
     "execution_count": 1,
     "metadata": {},
     "output_type": "execute_result"
    }
   ],
   "source": [
    "import pandas as pd\n",
    "import numpy as np\n",
    "\n",
    "# Q1. Pandas version\n",
    "# What version of Pandas did you install?\n",
    "# You can get the version information using the __version__ field:\n",
    "pd.__version__"
   ]
  },
  {
   "cell_type": "code",
   "execution_count": 2,
   "id": "143091d2-53ea-41cf-a4ac-79b0eee07660",
   "metadata": {},
   "outputs": [],
   "source": [
    "# Getting the data\n",
    "\n",
    "# For this homework, we'll use the Car Fuel Efficiency dataset. Download it from here.\n",
    "\n",
    "# You can do it with wget:\n",
    "\n",
    "# wget https://raw.githubusercontent.com/alexeygrigorev/datasets/master/car_fuel_efficiency.csv\n",
    "# Or just open it with your browser and click \"Save as...\".\n",
    "\n",
    "# Now read it with Pandas.\n",
    "\n",
    "\n",
    "# Q2. Records count\n",
    "# How many records are in the dataset?\n",
    "\n",
    "df = pd.read_csv('https://raw.githubusercontent.com/alexeygrigorev/datasets/master/car_fuel_efficiency.csv')"
   ]
  },
  {
   "cell_type": "code",
   "execution_count": 3,
   "id": "a72e2eba-8f92-421f-94a8-177377cce7c2",
   "metadata": {},
   "outputs": [
    {
     "data": {
      "text/html": [
       "<div>\n",
       "<style scoped>\n",
       "    .dataframe tbody tr th:only-of-type {\n",
       "        vertical-align: middle;\n",
       "    }\n",
       "\n",
       "    .dataframe tbody tr th {\n",
       "        vertical-align: top;\n",
       "    }\n",
       "\n",
       "    .dataframe thead th {\n",
       "        text-align: right;\n",
       "    }\n",
       "</style>\n",
       "<table border=\"1\" class=\"dataframe\">\n",
       "  <thead>\n",
       "    <tr style=\"text-align: right;\">\n",
       "      <th></th>\n",
       "      <th>engine_displacement</th>\n",
       "      <th>num_cylinders</th>\n",
       "      <th>horsepower</th>\n",
       "      <th>vehicle_weight</th>\n",
       "      <th>acceleration</th>\n",
       "      <th>model_year</th>\n",
       "      <th>origin</th>\n",
       "      <th>fuel_type</th>\n",
       "      <th>drivetrain</th>\n",
       "      <th>num_doors</th>\n",
       "      <th>fuel_efficiency_mpg</th>\n",
       "    </tr>\n",
       "  </thead>\n",
       "  <tbody>\n",
       "    <tr>\n",
       "      <th>0</th>\n",
       "      <td>170</td>\n",
       "      <td>3.0</td>\n",
       "      <td>159.0</td>\n",
       "      <td>3413.433759</td>\n",
       "      <td>17.7</td>\n",
       "      <td>2003</td>\n",
       "      <td>Europe</td>\n",
       "      <td>Gasoline</td>\n",
       "      <td>All-wheel drive</td>\n",
       "      <td>0.0</td>\n",
       "      <td>13.231729</td>\n",
       "    </tr>\n",
       "    <tr>\n",
       "      <th>1</th>\n",
       "      <td>130</td>\n",
       "      <td>5.0</td>\n",
       "      <td>97.0</td>\n",
       "      <td>3149.664934</td>\n",
       "      <td>17.8</td>\n",
       "      <td>2007</td>\n",
       "      <td>USA</td>\n",
       "      <td>Gasoline</td>\n",
       "      <td>Front-wheel drive</td>\n",
       "      <td>0.0</td>\n",
       "      <td>13.688217</td>\n",
       "    </tr>\n",
       "    <tr>\n",
       "      <th>2</th>\n",
       "      <td>170</td>\n",
       "      <td>NaN</td>\n",
       "      <td>78.0</td>\n",
       "      <td>3079.038997</td>\n",
       "      <td>15.1</td>\n",
       "      <td>2018</td>\n",
       "      <td>Europe</td>\n",
       "      <td>Gasoline</td>\n",
       "      <td>Front-wheel drive</td>\n",
       "      <td>0.0</td>\n",
       "      <td>14.246341</td>\n",
       "    </tr>\n",
       "    <tr>\n",
       "      <th>3</th>\n",
       "      <td>220</td>\n",
       "      <td>4.0</td>\n",
       "      <td>NaN</td>\n",
       "      <td>2542.392402</td>\n",
       "      <td>20.2</td>\n",
       "      <td>2009</td>\n",
       "      <td>USA</td>\n",
       "      <td>Diesel</td>\n",
       "      <td>All-wheel drive</td>\n",
       "      <td>2.0</td>\n",
       "      <td>16.912736</td>\n",
       "    </tr>\n",
       "    <tr>\n",
       "      <th>4</th>\n",
       "      <td>210</td>\n",
       "      <td>1.0</td>\n",
       "      <td>140.0</td>\n",
       "      <td>3460.870990</td>\n",
       "      <td>14.4</td>\n",
       "      <td>2009</td>\n",
       "      <td>Europe</td>\n",
       "      <td>Gasoline</td>\n",
       "      <td>All-wheel drive</td>\n",
       "      <td>2.0</td>\n",
       "      <td>12.488369</td>\n",
       "    </tr>\n",
       "  </tbody>\n",
       "</table>\n",
       "</div>"
      ],
      "text/plain": [
       "   engine_displacement  num_cylinders  horsepower  vehicle_weight  \\\n",
       "0                  170            3.0       159.0     3413.433759   \n",
       "1                  130            5.0        97.0     3149.664934   \n",
       "2                  170            NaN        78.0     3079.038997   \n",
       "3                  220            4.0         NaN     2542.392402   \n",
       "4                  210            1.0       140.0     3460.870990   \n",
       "\n",
       "   acceleration  model_year  origin fuel_type         drivetrain  num_doors  \\\n",
       "0          17.7        2003  Europe  Gasoline    All-wheel drive        0.0   \n",
       "1          17.8        2007     USA  Gasoline  Front-wheel drive        0.0   \n",
       "2          15.1        2018  Europe  Gasoline  Front-wheel drive        0.0   \n",
       "3          20.2        2009     USA    Diesel    All-wheel drive        2.0   \n",
       "4          14.4        2009  Europe  Gasoline    All-wheel drive        2.0   \n",
       "\n",
       "   fuel_efficiency_mpg  \n",
       "0            13.231729  \n",
       "1            13.688217  \n",
       "2            14.246341  \n",
       "3            16.912736  \n",
       "4            12.488369  "
      ]
     },
     "execution_count": 3,
     "metadata": {},
     "output_type": "execute_result"
    }
   ],
   "source": [
    "df.head()"
   ]
  },
  {
   "cell_type": "code",
   "execution_count": 4,
   "id": "89f2468f-ee98-4ebf-b01f-b824897bb424",
   "metadata": {},
   "outputs": [
    {
     "data": {
      "text/plain": [
       "9704"
      ]
     },
     "execution_count": 4,
     "metadata": {},
     "output_type": "execute_result"
    }
   ],
   "source": [
    "len(df)"
   ]
  },
  {
   "cell_type": "code",
   "execution_count": 5,
   "id": "61986a5d-f4b5-462d-9e0a-bfc061d85aac",
   "metadata": {},
   "outputs": [
    {
     "data": {
      "text/plain": [
       "2"
      ]
     },
     "execution_count": 5,
     "metadata": {},
     "output_type": "execute_result"
    }
   ],
   "source": [
    "# Q3. Fuel types\n",
    "# How many fuel types are presented in the dataset?\n",
    "df['fuel_type'].nunique()"
   ]
  },
  {
   "cell_type": "code",
   "execution_count": 6,
   "id": "c53ea58c-28b0-4a14-b812-d993a027480c",
   "metadata": {},
   "outputs": [
    {
     "data": {
      "text/plain": [
       "np.int64(9704)"
      ]
     },
     "execution_count": 6,
     "metadata": {},
     "output_type": "execute_result"
    }
   ],
   "source": [
    "df['fuel_type'].count()"
   ]
  },
  {
   "cell_type": "code",
   "execution_count": 7,
   "id": "0163d9a2-8fd6-49ca-87bd-40fda7829175",
   "metadata": {},
   "outputs": [
    {
     "data": {
      "text/plain": [
       "engine_displacement    9704\n",
       "num_cylinders          9222\n",
       "horsepower             8996\n",
       "vehicle_weight         9704\n",
       "acceleration           8774\n",
       "model_year             9704\n",
       "origin                 9704\n",
       "fuel_type              9704\n",
       "drivetrain             9704\n",
       "num_doors              9202\n",
       "fuel_efficiency_mpg    9704\n",
       "dtype: int64"
      ]
     },
     "execution_count": 7,
     "metadata": {},
     "output_type": "execute_result"
    }
   ],
   "source": [
    "# Q4. Missing values\n",
    "# How many columns in the dataset having missing values?\n",
    "df.count()"
   ]
  },
  {
   "cell_type": "code",
   "execution_count": 8,
   "id": "8b96e251-f1cf-494c-a014-2dbb8d334c88",
   "metadata": {},
   "outputs": [
    {
     "data": {
      "text/plain": [
       "0       11\n",
       "1       11\n",
       "2       10\n",
       "3       10\n",
       "4       11\n",
       "        ..\n",
       "9699    10\n",
       "9700    10\n",
       "9701    11\n",
       "9702    11\n",
       "9703    11\n",
       "Length: 9704, dtype: int64"
      ]
     },
     "execution_count": 8,
     "metadata": {},
     "output_type": "execute_result"
    }
   ],
   "source": [
    "df.count(axis='columns')"
   ]
  },
  {
   "cell_type": "code",
   "execution_count": 9,
   "id": "3829861b-a51c-4a8a-b84e-7a38c8132430",
   "metadata": {},
   "outputs": [
    {
     "name": "stdout",
     "output_type": "stream",
     "text": [
      "Missing values in 'engine_deplacement' column: 0\n",
      "Missing values in 'num_cylinders' column: 482\n",
      "Missing values in 'horsepower' column: 708\n",
      "Missing values in 'vehicle_weight' column: 0\n",
      "Missing values in 'acceleration' column: 930\n",
      "Missing values in 'model_year' column: 0\n",
      "Missing value in 'origin' column: 0\n",
      "Missing value in 'fuel_type' column: 0\n",
      "Missing value in 'drivetrain' column: 0\n",
      "Missing value in 'num_doors' column: 502\n",
      "Missing values in 'fuel_efficiency_mpg' column: 0\n"
     ]
    }
   ],
   "source": [
    "engine_displacement_missing = df['engine_displacement'].isna().sum()\n",
    "num_cylinders_missing = df['num_cylinders'].isna().sum()\n",
    "horsepower_missing = df['horsepower'].isna().sum()\n",
    "vehicle_weight_missing = df['vehicle_weight'].isna().sum()\n",
    "acceleration_missing = df['acceleration'].isna().sum()\n",
    "model_year_missing = df['model_year'].isna().sum()\n",
    "origin_missing = df['origin'].isna().sum()\n",
    "fuel_type_missing = df['fuel_type'].isna().sum()\n",
    "drivetrain_missing = df['drivetrain'].isna().sum()\n",
    "num_doors_missing = df['num_doors'].isna().sum()\n",
    "fuel_efficiency_mpg_missing = df['fuel_efficiency_mpg'].isna().sum()\n",
    "\n",
    "print(f\"Missing values in 'engine_deplacement' column: {engine_displacement_missing}\")\n",
    "print(f\"Missing values in 'num_cylinders' column: {num_cylinders_missing}\")\n",
    "print(f\"Missing values in 'horsepower' column: {horsepower_missing}\")\n",
    "print(f\"Missing values in 'vehicle_weight' column: {vehicle_weight_missing}\")\n",
    "print(f\"Missing values in 'acceleration' column: {acceleration_missing}\")\n",
    "print(f\"Missing values in 'model_year' column: {model_year_missing}\")\n",
    "print(f\"Missing value in 'origin' column: {origin_missing}\")\n",
    "print(f\"Missing value in 'fuel_type' column: {fuel_type_missing}\")\n",
    "print(f\"Missing value in 'drivetrain' column: {drivetrain_missing}\")\n",
    "print(f\"Missing value in 'num_doors' column: {num_doors_missing}\")\n",
    "print(f\"Missing values in 'fuel_efficiency_mpg' column: {fuel_efficiency_mpg_missing}\")"
   ]
  },
  {
   "cell_type": "code",
   "execution_count": 10,
   "id": "8141b622-9a1d-4ded-8d57-c53e90b06476",
   "metadata": {},
   "outputs": [
    {
     "name": "stdout",
     "output_type": "stream",
     "text": [
      "Maximum fuel efficient using built-in pandas function: 23.759122836520497\n",
      "Maximum fuel efficiency of cars from Asia is: 23.759122836520497\n"
     ]
    }
   ],
   "source": [
    "# Q5. Max fuel efficiency\n",
    "# What's the maximum fuel efficiency of cars from Asia?\n",
    "\n",
    "pandas_cars_from_asia = df[df['origin'] == 'Asia']\n",
    "pandas_max_fuel_efficient = pandas_cars_from_asia['fuel_efficiency_mpg'].max()\n",
    "\n",
    "current_max_fuel_efficiency = 0\n",
    "for idx, row in df.iterrows():\n",
    "    if row['origin'] == \"Asia\":\n",
    "        #print(f\"Found a vehicle with origin value of Asia with a fuel efficiency of {row['fuel_efficiency_mpg']}\")\n",
    "        current_max_fuel_efficiency = max(current_max_fuel_efficiency, row['fuel_efficiency_mpg'])\n",
    "\n",
    "print(f\"Maximum fuel efficient using built-in pandas function: {pandas_max_fuel_efficient}\")\n",
    "print(f\"Maximum fuel efficiency of cars from Asia is: {current_max_fuel_efficiency}\")"
   ]
  },
  {
   "cell_type": "code",
   "execution_count": 31,
   "id": "df246789-b6bf-4f05-80ec-46cbea86be78",
   "metadata": {},
   "outputs": [
    {
     "name": "stdout",
     "output_type": "stream",
     "text": [
      "Median value of the horsepower column: 149.0\n",
      "type of mode: <class 'numpy.float64'>\n",
      "The most frequent value of the same horsepower column: 152.0\n",
      "nan_counter: 708\n",
      "most_occurrences_count: 142\n",
      "horsepower_with_max_occurrences: 152.0\n",
      "total_non_nan_values: 8996\n",
      "New median horsepower after filling the missing value: 152.0\n"
     ]
    }
   ],
   "source": [
    "# Q6. Medium value of horsepower\n",
    "# 1. Find the median value of the horsepower column in the dataset\n",
    "# 2. Next, calculate the most frequent value of the same horsepower column\n",
    "# 3. Use the fillna method to fill the missing values in the horsepower column with the most frequent value from the previous step\n",
    "# 4. Now, calculate the median value of horsepower once again.\n",
    "#\n",
    "# Has it changed?\n",
    "# - Yes, it increased\n",
    "# - Yes, it decreased\n",
    "# - No\n",
    "\n",
    "\n",
    "\n",
    "# - Find the median value of the horsepower column in the dataset.\n",
    "median_horsepower = df['horsepower'].median()\n",
    "print(f\"Median value of the horsepower column: {median_horsepower}\")\n",
    "\n",
    "# - Next, calculate the most frequent value of the same horsepower column.\n",
    "mode_horsepower = df['horsepower'].mode()[0]\n",
    "print(f\"type of mode: {type(mode_horsepower)}\")\n",
    "print(f\"The most frequent value of the same horsepower column: {mode_horsepower}\")\n",
    "\n",
    "# double checking mode with a dictionary out of curiosity\n",
    "import math\n",
    "def is_nan(value):\n",
    "    return math.isnan(float(value))\n",
    "\n",
    "horsepower_dictionary = dict()\n",
    "nan_counter = 0\n",
    "for idx, row in df.iterrows():\n",
    "    current_horsepower = 0\n",
    "    if is_nan(row['horsepower']):\n",
    "        nan_counter += 1\n",
    "    else:\n",
    "        current_horsepower = row['horsepower'] \n",
    "        if current_horsepower in horsepower_dictionary:\n",
    "            horsepower_dictionary[current_horsepower] += 1\n",
    "        else:\n",
    "            horsepower_dictionary[current_horsepower] = 1\n",
    "            \n",
    "print(f\"nan_counter: {nan_counter}\") # this matches horsepower_missing = df['horsepower'].isna().sum() result from above\n",
    "#print(horsepower_dictionary)\n",
    "horsepower_with_max_occurrences = -1\n",
    "most_occurrences_count = -1\n",
    "total_non_nan_values = 0\n",
    "\n",
    "for key, val in horsepower_dictionary.items():\n",
    "    total_non_nan_values += val\n",
    "    if most_occurrences_count < val:\n",
    "        most_occurrences_count = val\n",
    "        horsepower_with_max_occurrences = key\n",
    "\n",
    "print(f\"most_occurrences_count: {most_occurrences_count}\")\n",
    "print(f\"horsepower_with_max_occurrences: {horsepower_with_max_occurrences}\")\n",
    "print(f\"total_non_nan_values: {total_non_nan_values}\") # this matches df.count() results from above\n",
    "#dict(sorted(horsepower_dictionary.items(), key=lambda item: item[1]))\n",
    "\n",
    "# - Use the fillna method to fill the missing values in the horsepower column with the most frequent value from the previous step.\n",
    "df_filled = df['horsepower'].fillna(mode_horsepower)\n",
    "\n",
    "# - Now, calculate the median value of horsepower once again.\n",
    "new_median_horsepower = df_filled.median()\n",
    "print(f\"New median horsepower after filling the missing value: {new_median_horsepower}\")\n",
    "\n",
    "# Yes, the median value of horsepower has changed: increased!\n"
   ]
  },
  {
   "cell_type": "code",
   "execution_count": 40,
   "id": "d80712c7-29ce-4962-a62d-f0c20006bb3e",
   "metadata": {},
   "outputs": [
    {
     "name": "stdout",
     "output_type": "stream",
     "text": [
      "xtx (mat-multiply transpose of X and X)\n",
      "[[62248334.33150762 41431216.5073268 ]\n",
      " [41431216.5073268  28373339.        ]]\n",
      "\n",
      "inv xtx\n",
      "[[ 5.71497081e-07 -8.34509443e-07]\n",
      " [-8.34509443e-07  1.25380877e-06]]\n",
      "\n",
      "y array\n",
      "[1100 1300  800  900 1000 1100 1200]\n",
      "\n",
      "w\n",
      "[0.01386421 0.5049067 ]\n",
      "\n",
      "sum of all the elements of the result\n",
      "0.5187709081074016\n"
     ]
    }
   ],
   "source": [
    "# Q7. Sum of weights\n",
    "# 1. Select all the cars from Asia\n",
    "# 2. Select only columns vehicle_weight and model_year\n",
    "# 3. Select the first 7 values\n",
    "# 4. Get the underlying NumPy array. Let's call it X.\n",
    "# 5. Compute matrix-matrix multiplication between the transpose of X and X. To get the transpose, use X.T. Let's call the result XTX.\n",
    "# 6. Invert XTX.\n",
    "# 7. Create an array y with values [1100, 1300, 800, 900, 1000, 1100, 1200].\n",
    "# 8. Multiply the inverse of XTX with the transpose of X, and then multiply the result by y. Call the result w.\n",
    "# 9. What's the sum of all the elements of the result?\n",
    "\n",
    "# - Select all the cars from Asia\n",
    "#pandas_cars_from_asia previously computed\n",
    "\n",
    "# - Select only columns vehicle_weight and model_year\n",
    "car_weight_and_year_only = pandas_cars_from_asia[['vehicle_weight', 'model_year']]\n",
    "\n",
    "# - Select the first 7 values\n",
    "first_seven_rows = car_weight_and_year_only.head(7)\n",
    "\n",
    "# - Get the underlying NumPy array. Let's call it X.\n",
    "x = first_seven_rows.values\n",
    "\n",
    "# - Compute matrix-matrix multiplication between the transpose of X and X. To get the transpose, use X.T. Let's call the result XTX.\n",
    "xtx = np.matmul(x.T, x)\n",
    "print(\"xtx (mat-multiply transpose of X and X)\")\n",
    "print(xtx)\n",
    "\n",
    "# - Invert XTX.\n",
    "print(\"\\ninv xtx\")\n",
    "inv_xtx = np.linalg.inv(xtx)\n",
    "print(inv_xtx)\n",
    "\n",
    "# - Create an array y with values [1100, 1300, 800, 900, 1000, 1100, 1200].\n",
    "print(\"\\ny array\")\n",
    "y = np.array([1100, 1300, 800, 900, 1000, 1100, 1200])\n",
    "print(y)\n",
    "\n",
    "# - Multiply the inverse of XTX with the transpose of X, and then multiply the result by y. Call the result w.\n",
    "print(\"\\nw\")\n",
    "temp = np.matmul(inv_xtx, x.T)\n",
    "w = np.matmul(temp, y)\n",
    "print(w)\n",
    "\n",
    "# - What's the sum of all the elements of the result?\n",
    "print(\"\\nsum of all the elements of the result\")\n",
    "print(np.sum(w))"
   ]
  },
  {
   "cell_type": "code",
   "execution_count": null,
   "id": "1f59d11a-51f4-48ca-85b9-da1211f8fa81",
   "metadata": {},
   "outputs": [],
   "source": []
  },
  {
   "cell_type": "code",
   "execution_count": null,
   "id": "9851aeca-010e-41ed-8927-39c311696a65",
   "metadata": {},
   "outputs": [],
   "source": []
  }
 ],
 "metadata": {
  "kernelspec": {
   "display_name": "Python 3 (ipykernel)",
   "language": "python",
   "name": "python3"
  },
  "language_info": {
   "codemirror_mode": {
    "name": "ipython",
    "version": 3
   },
   "file_extension": ".py",
   "mimetype": "text/x-python",
   "name": "python",
   "nbconvert_exporter": "python",
   "pygments_lexer": "ipython3",
   "version": "3.12.1"
  }
 },
 "nbformat": 4,
 "nbformat_minor": 5
}
